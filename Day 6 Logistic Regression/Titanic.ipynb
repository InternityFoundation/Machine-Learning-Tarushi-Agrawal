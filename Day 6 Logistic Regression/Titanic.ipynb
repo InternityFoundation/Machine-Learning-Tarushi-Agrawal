{
 "cells": [
  {
   "cell_type": "code",
   "execution_count": 1,
   "metadata": {},
   "outputs": [],
   "source": [
    "import numpy as np\n",
    "import pandas as pd\n",
    "import seaborn as sns"
   ]
  },
  {
   "cell_type": "code",
   "execution_count": 2,
   "metadata": {},
   "outputs": [],
   "source": [
    "data = pd.read_csv('train_titanic.csv')"
   ]
  },
  {
   "cell_type": "code",
   "execution_count": 3,
   "metadata": {},
   "outputs": [],
   "source": [
    "data.drop('Name',axis=1,inplace=True)"
   ]
  },
  {
   "cell_type": "code",
   "execution_count": 4,
   "metadata": {},
   "outputs": [],
   "source": [
    "data.drop('Ticket',axis=1,inplace=True)\n",
    "data.drop('Fare',axis=1,inplace=True)"
   ]
  },
  {
   "cell_type": "code",
   "execution_count": 5,
   "metadata": {},
   "outputs": [],
   "source": [
    "data.drop('Cabin',axis=1,inplace=True)"
   ]
  },
  {
   "cell_type": "code",
   "execution_count": 6,
   "metadata": {},
   "outputs": [],
   "source": [
    "def gen(s):\n",
    "    if s==\"male\":\n",
    "        return 1\n",
    "    else:\n",
    "        return 0\n",
    "data[\"Gender\"]=data[\"Sex\"].apply(gen)"
   ]
  },
  {
   "cell_type": "code",
   "execution_count": 7,
   "metadata": {},
   "outputs": [],
   "source": [
    "del data[\"Sex\"]"
   ]
  },
  {
   "cell_type": "code",
   "execution_count": 8,
   "metadata": {},
   "outputs": [],
   "source": [
    "meanM= data[data.Gender==1].Age.mean()"
   ]
  },
  {
   "cell_type": "code",
   "execution_count": 9,
   "metadata": {},
   "outputs": [],
   "source": [
    "data[\"age\"]=np.where(pd.isnull(data.Age) & data[\"Gender\"]==1  ,meanM, data[\"Age\"])"
   ]
  },
  {
   "cell_type": "code",
   "execution_count": 10,
   "metadata": {},
   "outputs": [],
   "source": [
    "meanF= data[data.Gender==0].Age.mean()"
   ]
  },
  {
   "cell_type": "code",
   "execution_count": 11,
   "metadata": {
    "scrolled": true
   },
   "outputs": [],
   "source": [
    "data.age.fillna(meanF,inplace=True)"
   ]
  },
  {
   "cell_type": "code",
   "execution_count": 12,
   "metadata": {},
   "outputs": [],
   "source": [
    "del data[\"Age\"]"
   ]
  },
  {
   "cell_type": "code",
   "execution_count": 13,
   "metadata": {},
   "outputs": [],
   "source": [
    "data.dropna(inplace=True)"
   ]
  },
  {
   "cell_type": "code",
   "execution_count": 14,
   "metadata": {},
   "outputs": [],
   "source": [
    "def emb(s):\n",
    "    if s==\"S\":\n",
    "        return 1\n",
    "    elif s==\"C\":\n",
    "        return 2\n",
    "    else:\n",
    "        return 3\n",
    "data[\"Emb\"]=data[\"Embarked\"].apply(emb)\n",
    "del data[\"Embarked\"]"
   ]
  },
  {
   "cell_type": "code",
   "execution_count": 15,
   "metadata": {},
   "outputs": [],
   "source": [
    "data.rename(columns={'age':'Age'},inplace=True)\n",
    "data.rename(columns={'Gender':'Sex'},inplace=True)"
   ]
  },
  {
   "cell_type": "code",
   "execution_count": 16,
   "metadata": {},
   "outputs": [],
   "source": [
    "data.rename(columns={'Emb':'Embarked'},inplace=True)"
   ]
  },
  {
   "cell_type": "code",
   "execution_count": 17,
   "metadata": {},
   "outputs": [],
   "source": [
    "data = data[['Pclass','Sex','Age','SibSp','Parch','Embarked','Survived']]"
   ]
  },
  {
   "cell_type": "code",
   "execution_count": 18,
   "metadata": {},
   "outputs": [],
   "source": [
    "test=pd.read_csv(\"test_titanic.csv\")"
   ]
  },
  {
   "cell_type": "code",
   "execution_count": 19,
   "metadata": {},
   "outputs": [],
   "source": [
    "del test[\"Name\"]\n",
    "del test[\"Ticket\"]\n",
    "del test[\"Fare\"]\n",
    "del test[\"Cabin\"]"
   ]
  },
  {
   "cell_type": "code",
   "execution_count": 20,
   "metadata": {},
   "outputs": [],
   "source": [
    "test[\"Emb\"]=test[\"Embarked\"].apply(emb)"
   ]
  },
  {
   "cell_type": "code",
   "execution_count": 21,
   "metadata": {},
   "outputs": [],
   "source": [
    "test[\"Gender\"]=test[\"Sex\"].apply(gen)"
   ]
  },
  {
   "cell_type": "code",
   "execution_count": 22,
   "metadata": {},
   "outputs": [],
   "source": [
    "del test[\"Sex\"]\n",
    "del test[\"Embarked\"]"
   ]
  },
  {
   "cell_type": "code",
   "execution_count": 23,
   "metadata": {},
   "outputs": [],
   "source": [
    "test.rename(columns={'Emb':'Embarked'},inplace=True)\n",
    "test.rename(columns={'Gender':'Sex'},inplace=True)"
   ]
  },
  {
   "cell_type": "code",
   "execution_count": 24,
   "metadata": {},
   "outputs": [],
   "source": [
    "test = test[['Pclass','Sex','Age','SibSp','Parch','Embarked']]"
   ]
  },
  {
   "cell_type": "code",
   "execution_count": 25,
   "metadata": {
    "scrolled": true
   },
   "outputs": [],
   "source": [
    "data=data.values"
   ]
  },
  {
   "cell_type": "code",
   "execution_count": 26,
   "metadata": {},
   "outputs": [],
   "source": [
    "meanMT=test[test.Sex==1].Age.mean()"
   ]
  },
  {
   "cell_type": "code",
   "execution_count": 27,
   "metadata": {},
   "outputs": [],
   "source": [
    "meanFT=test[test.Sex==0].Age.mean()"
   ]
  },
  {
   "cell_type": "code",
   "execution_count": 28,
   "metadata": {},
   "outputs": [],
   "source": [
    "test[\"age\"]=np.where(pd.isnull(test.Age) & test[\"Sex\"]==1,meanMT,test[\"Age\"])"
   ]
  },
  {
   "cell_type": "code",
   "execution_count": 29,
   "metadata": {},
   "outputs": [],
   "source": [
    "test.age.fillna(meanFT,inplace=True)"
   ]
  },
  {
   "cell_type": "code",
   "execution_count": 30,
   "metadata": {},
   "outputs": [],
   "source": [
    "del test[\"Age\"]"
   ]
  },
  {
   "cell_type": "code",
   "execution_count": 31,
   "metadata": {},
   "outputs": [],
   "source": [
    "test.rename(columns={'age':'Age'},inplace=True)"
   ]
  },
  {
   "cell_type": "code",
   "execution_count": 32,
   "metadata": {},
   "outputs": [],
   "source": [
    "test=test[['Pclass','Sex','Age','SibSp','Parch','Embarked']]"
   ]
  },
  {
   "cell_type": "code",
   "execution_count": 33,
   "metadata": {},
   "outputs": [],
   "source": [
    "test=test.values"
   ]
  },
  {
   "cell_type": "code",
   "execution_count": 34,
   "metadata": {},
   "outputs": [],
   "source": [
    "def cost(data,m,h_x):\n",
    "    M=data.shape[0]\n",
    "    N=data.shape[1]\n",
    "    total_cost=0\n",
    "    for i in range(M):\n",
    "        x=data[i,0:N-1]\n",
    "        x=np.append(x,1)\n",
    "        y=data[i,N-1]\n",
    "        temp= (-y*np.log(h_x[i]))-((1-y)*np.log(1-h_x[i]))\n",
    "        total_cost+=temp\n",
    "    return total_cost/M"
   ]
  },
  {
   "cell_type": "code",
   "execution_count": 35,
   "metadata": {},
   "outputs": [],
   "source": [
    "def predict(h_x):\n",
    "    ypred=np.zeros(len(h_x))\n",
    "    ypred=h_x>0.5\n",
    "    ypred=ypred.astype(float)\n",
    "    return ypred"
   ]
  },
  {
   "cell_type": "code",
   "execution_count": 36,
   "metadata": {},
   "outputs": [],
   "source": [
    "def findh_x(m,data):\n",
    "    M=data.shape[0]\n",
    "    N=data.shape[1]\n",
    "    h_x=np.zeros(M)\n",
    "    for i in range(M):\n",
    "        x=data[i,0:N-1]\n",
    "        x=np.append(x,1)\n",
    "        temp=(m.T*x).sum()\n",
    "        h_x[i]=1/(1+np.exp(-temp))\n",
    "    return h_x"
   ]
  },
  {
   "cell_type": "code",
   "execution_count": 37,
   "metadata": {},
   "outputs": [],
   "source": [
    "def findm(data,learning_rate,m,h_x):\n",
    "    M=data.shape[0]\n",
    "    N=data.shape[1]\n",
    "    new_m=np.zeros(N)\n",
    "    slope_m=np.zeros(N)\n",
    "    der_m=np.zeros(N)\n",
    "    for i in range(M):\n",
    "        x=data[i,0:N-1]\n",
    "        x=np.append(x,1)\n",
    "        y=data[i,N-1]\n",
    "        for j in range(len(x)):\n",
    "            slope_m[j]= (-x[j])*(y-h_x[i])\n",
    "            der_m[j]+=slope_m[j]\n",
    "    der_m=der_m/M\n",
    "    new_m=m-learning_rate*der_m    \n",
    "    return new_m"
   ]
  },
  {
   "cell_type": "code",
   "execution_count": 38,
   "metadata": {},
   "outputs": [],
   "source": [
    "def logistic(data,learning_rate,num_iterations):\n",
    "    m=np.zeros(data.shape[1])\n",
    "    for i in range(num_iterations):\n",
    "        h_x=findh_x(m,data)\n",
    "        m=findm(data,learning_rate,m,h_x)\n",
    "        #print(\"Cost: \",cost(data,m,h_x))\n",
    "    return m"
   ]
  },
  {
   "cell_type": "code",
   "execution_count": 39,
   "metadata": {},
   "outputs": [],
   "source": [
    "def test_data(m,data):\n",
    "    M=data.shape[0]\n",
    "    N=data.shape[1]\n",
    "    h_x=np.zeros(M)\n",
    "    for i in range(M):\n",
    "        x=data[i,0:N]\n",
    "        x=np.append(x,1)\n",
    "        temp=(m.T*x).sum()\n",
    "        h_x[i]=1/(1+np.exp(-temp))\n",
    "    ypred=np.zeros(len(h_x))\n",
    "    ypred=h_x>0.5\n",
    "    ypred=ypred.astype(float)\n",
    "    return ypred"
   ]
  },
  {
   "cell_type": "code",
   "execution_count": 40,
   "metadata": {},
   "outputs": [],
   "source": [
    "def run():\n",
    "    learning_rate=0.008\n",
    "    num_iterations=1000\n",
    "    m=logistic(data,learning_rate,num_iterations)\n",
    "    print(m)\n",
    "    h_x=findh_x(m,data)\n",
    "    \n",
    "    #print(h_x)\n",
    "    #ypred=predict(h_x)\n",
    "    count =0\n",
    "    #print(ypred)\n",
    "    #for i in range(data.shape[0]):\n",
    "     #   if(ypred[i]==data[i,6]):\n",
    "      #      count+=1\n",
    "    #print(count/data.shape[0])\n",
    "    ypred=test_data(m,test)\n",
    "    print(ypred)"
   ]
  },
  {
   "cell_type": "code",
   "execution_count": 41,
   "metadata": {},
   "outputs": [
    {
     "name": "stdout",
     "output_type": "stream",
     "text": [
      "[-0.36281653 -0.66927009  0.00098625 -0.03547578  0.13654337  0.35633235\n",
      "  0.17612053]\n",
      "[0. 1. 0. 0. 0. 0. 0. 0. 0. 0. 1. 0. 1. 0. 0. 0. 0. 0. 0. 1. 1. 0. 1. 1.\n",
      " 0. 0. 0. 0. 0. 0. 0. 0. 0. 0. 0. 1. 0. 0. 0. 0. 1. 0. 0. 0. 0. 0. 0. 1.\n",
      " 0. 0. 0. 1. 0. 1. 0. 0. 0. 0. 0. 0. 0. 0. 1. 1. 0. 0. 0. 0. 1. 1. 0. 0.\n",
      " 0. 0. 0. 1. 0. 0. 0. 0. 0. 1. 0. 0. 0. 1. 0. 0. 0. 0. 0. 0. 0. 0. 0. 0.\n",
      " 0. 0. 0. 1. 1. 0. 1. 0. 0. 1. 0. 0. 0. 0. 0. 1. 1. 0. 0. 0. 0. 1. 0. 0.\n",
      " 0. 0. 0. 0. 0. 0. 0. 0. 0. 0. 0. 0. 0. 0. 0. 0. 1. 0. 0. 0. 0. 0. 0. 0.\n",
      " 0. 0. 0. 0. 1. 1. 1. 0. 0. 0. 0. 0. 0. 0. 0. 0. 0. 0. 0. 1. 1. 0. 0. 0.\n",
      " 0. 1. 0. 0. 0. 0. 1. 0. 0. 0. 0. 0. 0. 0. 0. 0. 0. 0. 0. 1. 1. 0. 0. 0.\n",
      " 1. 0. 0. 0. 1. 0. 0. 1. 0. 0. 0. 0. 0. 0. 0. 0. 1. 0. 0. 0. 0. 0. 0. 1.\n",
      " 0. 0. 0. 0. 1. 0. 0.]\n"
     ]
    }
   ],
   "source": [
    "run()"
   ]
  },
  {
   "cell_type": "code",
   "execution_count": null,
   "metadata": {},
   "outputs": [],
   "source": []
  }
 ],
 "metadata": {
  "kernelspec": {
   "display_name": "Python 3",
   "language": "python",
   "name": "python3"
  },
  "language_info": {
   "codemirror_mode": {
    "name": "ipython",
    "version": 3
   },
   "file_extension": ".py",
   "mimetype": "text/x-python",
   "name": "python",
   "nbconvert_exporter": "python",
   "pygments_lexer": "ipython3",
   "version": "3.6.5"
  }
 },
 "nbformat": 4,
 "nbformat_minor": 2
}
